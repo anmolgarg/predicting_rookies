{
 "metadata": {
  "name": ""
 },
 "nbformat": 3,
 "nbformat_minor": 0,
 "worksheets": [
  {
   "cells": [
    {
     "cell_type": "code",
     "collapsed": false,
     "input": [
      "import pandas as pd\n",
      "import seaborn as sns\n",
      "\n",
      "from sklearn.cluster import KMeans\n",
      "from sklearn import preprocessing\n",
      "from sklearn import cross_validation\n",
      "from sklearn.metrics import confusion_matrix, roc_curve, auc\n",
      "from sklearn.ensemble import RandomForestClassifier\n"
     ],
     "language": "python",
     "metadata": {},
     "outputs": [],
     "prompt_number": 1
    },
    {
     "cell_type": "code",
     "collapsed": false,
     "input": [
      "def cluster_players(df):\n",
      "    '''Performs k-means w/ k=2 clustering of fantasy players on pts and pts/game\n",
      "    Returns updated dataframe with cluster IDs'''\n",
      "    \n",
      "    kmeans = KMeans(n_clusters=2).fit(df[['ffpts', 'ffpts_gp']])\n",
      "    labels_2 = kmeans.labels_\n",
      "    for lab in unique(labels_2):\n",
      "        print lab, len(labels_2[labels_2==lab])*1.0/len(labels_2)\n",
      "    df['kmeans_k2'] = labels_2\n",
      "    \n",
      "    # \tsns.boxplot(df['ffpts'], groupby=labels_2)\n",
      "    # \tplt.savefig('charts/cluster_results.png')\n",
      "    return df\n"
     ],
     "language": "python",
     "metadata": {},
     "outputs": [],
     "prompt_number": 2
    },
    {
     "cell_type": "code",
     "collapsed": false,
     "input": [
      "def map_features(df):\n",
      "\t'''Maps out categoricals to numerics for use in modeling\n",
      "    Returns updated dataframe'''\n",
      "    \n",
      "    # replace 0s which should be nan with nans\n",
      "\tdf = df.replace(0, nan)\n",
      "\tfeatures = pd.DataFrame()\n",
      "    \n",
      "    # map features\n",
      "\tfor col in df.columns:\n",
      "\t    if df[col].dtype == np.dtype('object'):\n",
      "\t        s = np.unique(df[col].fillna(-1).values)\n",
      "\t        mapping = pd.Series([x[0] for x in enumerate(s)], index = s)\n",
      "\t        features = pd.concat((features, pd.DataFrame(df[col].map(mapping).fillna(-1))), axis=1)\n",
      "\t    else:\n",
      "\t        features = pd.concat((features, pd.DataFrame(df[col].fillna(-1))), axis=1)\n",
      "    \n",
      "    # replace mapped out categoricals in df\n",
      "\tdf[['class', 'college', 'conference', 'subn', 'Home Country', 'Home State', 'Home Town', \n",
      "\t \t'Last School', 'position']] = \\\n",
      "\tfeatures[['class', 'college', 'conference', 'subn', 'Home Country', 'Home State', 'Home Town', \n",
      "\t    'Last School', 'position']]\n",
      "\treturn df   \n"
     ],
     "language": "python",
     "metadata": {},
     "outputs": [],
     "prompt_number": 3
    },
    {
     "cell_type": "code",
     "collapsed": false,
     "input": [
      "# declare some feature lists\n",
      "draft_combine = ['draft_pick', 'height_combine', 'weight_combine', 'wonderlic', 'forty_yard', \n",
      "    'bench_press', 'vertical_leap', 'broad_jump', 'shuttle', 'three_cone']\n",
      "\n",
      "ncaa_mean = ['Pass Att_mean', 'Pass Comp_mean', 'Pass Conv_mean', 'Pass Int_mean', \n",
      "    'Pass TD_mean', 'Pass Yard_mean', \n",
      "    'QB Hurry_mean', 'Rec_mean', 'Rec TD_mean', 'Rec Yards_mean', \n",
      "    'Rush Att_mean', 'Rush TD_mean', 'Rush Yard_mean', 'Fumble_mean', 'Fumble Lost_mean', \n",
      "    'Kickoff Ret_mean', 'Kickoff Ret TD_mean', 'Kickoff Ret Yard_mean', 'Kickoff Touchback_mean', \n",
      "    'Punt Ret_mean', 'Punt Ret TD_mean', 'Punt Ret Yard_mean', 'Off 2XP Att_mean', 'Off 2XP Made_mean', \n",
      "    'Points_mean', 'Tackle Assist_mean', 'Tackle For Loss_mean', 'Tackle For Loss Yard_mean', \n",
      "    'Tackle Solo_mean', 'Pass Broken Up_mean', 'Sack_mean', 'Sack Yard_mean', \n",
      "    'Int Ret_mean', 'Int Ret TD_mean', 'Int Ret Yard_mean', \n",
      "    'Misc Ret_mean', 'Misc Ret TD_mean', 'Misc Ret Yard_mean', 'Kick/Punt Blocked_mean', \n",
      "    'Fumble Forced_mean', 'Fum Ret_mean', 'Fum Ret TD_mean', 'Fum Ret Yard_mean', \n",
      "    'Def 2XP Att_mean', 'Def 2XP Made_mean', 'Safety_mean', \n",
      "    'Field Goal Att_mean', 'Field Goal Made_mean', 'Off XP Kick Att_mean', 'Off XP Kick Made_mean', \n",
      "    'Punt_mean', 'Punt Yard_mean', 'Kickoff_mean', 'Kickoff Yard_mean', \n",
      "    'Kickoff Onside_mean', 'Kickoff Out-Of-Bounds_mean']\n",
      "    \n",
      "basics = ['class', 'college', 'conference', 'subn', \n",
      "    'height_ncaa', 'weight_ncaa', 'Home Country', 'Home State', 'Home Town', 'Last School']\n"
     ],
     "language": "python",
     "metadata": {},
     "outputs": [],
     "prompt_number": 4
    },
    {
     "cell_type": "code",
     "collapsed": false,
     "input": [
      "def cross_validate_model(df):\n",
      "    '''10 fold cross validation of tuned random forest classifier examining AUC'''\n",
      "\t\n",
      "    X = df[ncaa_mean+['position']+draft_combine+basics].fillna(-1)\n",
      "    X = preprocessing.scale(X) \n",
      "    y = df['kmeans_k2'].fillna(-1)\n",
      "    cv = cross_validation.KFold(len(X), n_folds=10, indices=False)\n",
      "    \n",
      "    rf = RandomForestClassifier(n_estimators=100, criterion='entropy', max_features=30)\n",
      "    results = []\n",
      "    for traincv, testcv in cv:\n",
      "        rf.fit(X[traincv], y[traincv])\n",
      "        probas_ = rf.predict_proba(X[testcv])\n",
      "        fpr, tpr, thresholds = roc_curve(y[testcv], probas_[:, 1])\n",
      "        results.append(auc(fpr, tpr))\n",
      "    print 'RF Average AUC with k=10 cross validation: '+str(np.array(results).mean())\n"
     ],
     "language": "python",
     "metadata": {},
     "outputs": [],
     "prompt_number": 5
    },
    {
     "cell_type": "code",
     "collapsed": false,
     "input": [
      "df = pd.read_csv('../data/all_data.csv', index_col=0, )\n",
      "\n",
      "df = map_features(cluster_players(df))\n",
      "cross_validate_model(df)\n"
     ],
     "language": "python",
     "metadata": {},
     "outputs": [
      {
       "output_type": "stream",
       "stream": "stdout",
       "text": [
        "0 0.824456521739\n",
        "1 0.175543478261\n",
        "RF Average AUC with k=10 cross validation: 0.793469221723"
       ]
      },
      {
       "output_type": "stream",
       "stream": "stdout",
       "text": [
        "\n"
       ]
      }
     ],
     "prompt_number": 6
    },
    {
     "cell_type": "code",
     "collapsed": false,
     "input": [
      "def predict_rookies(train, test):\n",
      "\t'''Given a training and test data set, fits training set to model and predicts on test set\n",
      "\tReturns test predictions'''\n",
      "    \n",
      "\tX_train = train[ncaa_mean+['position']+draft_combine+basics].fillna(-1)\n",
      "\tX_train = preprocessing.scale(X) \n",
      "\ty_train = train['kmeans_k2'].fillna(-1)\n",
      "\n",
      "\tX_test = test[ncaa_mean+['position']+draft_combine+basics].fillna(-1)\n",
      "\tX_test = preprocessing.scale(X_test) \n",
      "\n",
      "\trf = RandomForestClassifier(n_estimators=100, criterion='entropy', max_features=30)\n",
      "\trf.fit(X_train, y_train)\n",
      "\ty_pred = rf.predict(X_test)\n",
      "\treturn y_pred\n"
     ],
     "language": "python",
     "metadata": {},
     "outputs": [],
     "prompt_number": 7
    }
   ],
   "metadata": {}
  }
 ]
}